{
 "cells": [
  {
   "cell_type": "code",
   "execution_count": 78,
   "id": "7af380f1-2a43-4f80-b3db-6340b13a961d",
   "metadata": {},
   "outputs": [],
   "source": [
    "import numpy as np\n",
    "import pandas as pd\n",
    "from sklearn.linear_model import RidgeCV\n",
    "\n",
    "pd.set_option('display.max_columns', 500)\n",
    "pd.set_option('display.width', 1000)"
   ]
  },
  {
   "cell_type": "code",
   "execution_count": 79,
   "id": "5de8d279-5948-4985-b4f8-cc2e6bebcad8",
   "metadata": {},
   "outputs": [],
   "source": [
    "#game_id = '0022300382'\n",
    "possessions = pd.read_csv('data/rapm_possessions.csv')\n",
    "player_names = pd.read_csv('data/player_names.csv')"
   ]
  },
  {
   "cell_type": "code",
   "execution_count": 80,
   "id": "5de38d31-708a-41f9-a315-4598822de389",
   "metadata": {},
   "outputs": [],
   "source": [
    "possessions = possessions[possessions['possessions'] > 0]"
   ]
  },
  {
   "cell_type": "code",
   "execution_count": 81,
   "id": "509bdf0f-cacc-4441-9250-1f1b2513dd7a",
   "metadata": {},
   "outputs": [],
   "source": [
    "def build_player_list(posessions):\n",
    "    players = list(\n",
    "        set(list(posessions['offensePlayer1Id'].unique()) + list(posessions['offensePlayer2Id'].unique()) + list(\n",
    "            posessions['offensePlayer3Id']) + \\\n",
    "            list(posessions['offensePlayer4Id'].unique()) + list(posessions['offensePlayer5Id'].unique()) + list(\n",
    "            posessions['defensePlayer1Id'].unique()) + \\\n",
    "            list(posessions['defensePlayer2Id'].unique()) + list(posessions['defensePlayer3Id'].unique()) + list(\n",
    "            posessions['defensePlayer4Id'].unique()) + \\\n",
    "            list(posessions['defensePlayer5Id'].unique())))\n",
    "    players.sort()\n",
    "    return players"
   ]
  },
  {
   "cell_type": "code",
   "execution_count": 82,
   "id": "8dea1ad5-219b-46e2-a1da-455f9aeea783",
   "metadata": {},
   "outputs": [],
   "source": [
    "player_list = build_player_list(possessions)"
   ]
  },
  {
   "cell_type": "code",
   "execution_count": 83,
   "id": "da8994cf-03b6-434c-ac51-aa8ea6859fe8",
   "metadata": {},
   "outputs": [],
   "source": [
    "possessions['PointsPerPossession'] = 100 * possessions['points'] / possessions['possessions']"
   ]
  },
  {
   "cell_type": "code",
   "execution_count": 84,
   "id": "cd442e99-7205-44f8-9041-5723b0c95f76",
   "metadata": {},
   "outputs": [],
   "source": [
    "def map_players(row_in, players):\n",
    "    p1 = row_in[0]\n",
    "    p2 = row_in[1]\n",
    "    p3 = row_in[2]\n",
    "    p4 = row_in[3]\n",
    "    p5 = row_in[4]\n",
    "    p6 = row_in[5]\n",
    "    p7 = row_in[6]\n",
    "    p8 = row_in[7]\n",
    "    p9 = row_in[8]\n",
    "    p10 = row_in[9]\n",
    "\n",
    "    rowOut = np.zeros([len(players) * 2])\n",
    "\n",
    "    rowOut[players.index(p1)] = 1\n",
    "    rowOut[players.index(p2)] = 1\n",
    "    rowOut[players.index(p3)] = 1\n",
    "    rowOut[players.index(p4)] = 1\n",
    "    rowOut[players.index(p5)] = 1\n",
    "\n",
    "    rowOut[players.index(p6) + len(players)] = -1\n",
    "    rowOut[players.index(p7) + len(players)] = -1\n",
    "    rowOut[players.index(p8) + len(players)] = -1\n",
    "    rowOut[players.index(p9) + len(players)] = -1\n",
    "    rowOut[players.index(p10) + len(players)] = -1\n",
    "\n",
    "    return rowOut"
   ]
  },
  {
   "cell_type": "code",
   "execution_count": 116,
   "id": "0c2350ae-81fe-4c91-9de4-d28f4e502f76",
   "metadata": {},
   "outputs": [],
   "source": [
    "# Break the dataframe into x_train (nxm matrix), y_train (nx1 matrix of target values), and weights (not necessary because all rows will have 1 possession)\n",
    "def convert_to_matricies(possessions, name, players):\n",
    "    # extract only the columns we need\n",
    "\n",
    "    # Convert the columns of player ids into a numpy matrix\n",
    "    stints_x_base = possessions[['offensePlayer1Id', 'offensePlayer2Id',\n",
    "                                                      'offensePlayer3Id', 'offensePlayer4Id', 'offensePlayer5Id',\n",
    "                                                      'defensePlayer1Id', 'defensePlayer2Id', 'defensePlayer3Id',\n",
    "                                                      'defensePlayer4Id', 'defensePlayer5Id']].values\n",
    "    # Apply our mapping function to the numpy matrix\n",
    "    stint_X_rows = np.apply_along_axis(map_players, 1, stints_x_base, players)\n",
    "\n",
    "    # Convert the column of target values into a numpy matrix\n",
    "    stint_Y_rows = possessions[name].values\n",
    "\n",
    "    # extract the possessions as a pandas Series\n",
    "    possessions = possessions['possessions']\n",
    "\n",
    "    # return matricies and possessions series\n",
    "    return stint_X_rows, stint_Y_rows, possessions"
   ]
  },
  {
   "cell_type": "code",
   "execution_count": 117,
   "id": "1f2f5f29-3627-4ebe-bcd4-b5b4591916d0",
   "metadata": {},
   "outputs": [],
   "source": [
    "train_x, train_y, possessions_raw = convert_to_matricies(possessions, 'PointsPerPossession', player_list)"
   ]
  },
  {
   "cell_type": "code",
   "execution_count": 126,
   "id": "cecc467a-f1b8-4ac7-86eb-d1bc9f9e3760",
   "metadata": {},
   "outputs": [],
   "source": [
    "# Convert lambda value to alpha needed for ridge CV\n",
    "def lambda_to_alpha(lambda_value, samples):\n",
    "    return (lambda_value * samples) / 2.0\n",
    "\n",
    "# Convert RidgeCV alpha back into a lambda value\n",
    "def alpha_to_lambda(alpha_value, samples):\n",
    "    return (alpha_value * 2.0) / samples"
   ]
  },
  {
   "cell_type": "code",
   "execution_count": 127,
   "id": "878841c1-2659-404e-9524-05352e7d88db",
   "metadata": {},
   "outputs": [],
   "source": [
    "def calculate_rapm(train_x, train_y, possessions, lambdas, name, players):\n",
    "    # convert our lambdas to alphas\n",
    "    alphas = [lambda_to_alpha(l, train_x.shape[0]) for l in lambdas]\n",
    "\n",
    "    # create a 5 fold CV ridgeCV model. Our target data is not centered at 0, so we want to fit to an intercept.\n",
    "    clf = RidgeCV(alphas=alphas, cv=5, fit_intercept=True, normalize=False)\n",
    "\n",
    "    # fit our training data\n",
    "    model = clf.fit(train_x, train_y, sample_weight=possessions)\n",
    "\n",
    "    # convert our list of players into a mx1 matrix\n",
    "    player_arr = np.transpose(np.array(players).reshape(1, len(players)))\n",
    "\n",
    "    # extract our coefficients into the offensive and defensive parts\n",
    "    coef_offensive_array = np.transpose(model.coef_[:, 0:len(players)])\n",
    "    coef_defensive_array = np.transpose(model.coef_[:, len(players):])\n",
    "\n",
    "    # concatenate the offensive and defensive values with the playey ids into a mx3 matrix\n",
    "    player_id_with_coef = np.concatenate([player_arr, coef_offensive_array, coef_defensive_array], axis=1)\n",
    "    # build a dataframe from our matrix\n",
    "    players_coef = pd.DataFrame(player_id_with_coef)\n",
    "    intercept = model.intercept_\n",
    "\n",
    "    # apply new column names\n",
    "    players_coef.columns = ['playerId', '{0}__Off'.format(name), '{0}__Def'.format(name)]\n",
    "\n",
    "    # Add the offesnive and defensive components together (we should really be weighing this to the number of offensive and defensive possession played as they are often not equal).\n",
    "    players_coef[name] = players_coef['{0}__Off'.format(name)] + players_coef['{0}__Def'.format(name)]\n",
    "\n",
    "    # rank the values\n",
    "    players_coef['{0}_Rank'.format(name)] = players_coef[name].rank(ascending=False)\n",
    "    players_coef['{0}__Off_Rank'.format(name)] = players_coef['{0}__Off'.format(name)].rank(ascending=False)\n",
    "    players_coef['{0}__Def_Rank'.format(name)] = players_coef['{0}__Def'.format(name)].rank(ascending=False)\n",
    "\n",
    "    # add the intercept for reference\n",
    "    players_coef['{0}__intercept'.format(name)] = intercept[0]\n",
    "\n",
    "    return players_coef, intercept"
   ]
  },
  {
   "cell_type": "code",
   "execution_count": null,
   "id": "74513c4d-ab58-433f-8fe6-d2143a6cd8c2",
   "metadata": {},
   "outputs": [],
   "source": [
    "lambdas_rapm = [.01, .05, .1]\n",
    "\n",
    "alphas = [lambda_to_alpha(l, train_x.shape[0]) for l in lambdas_rapm]\n",
    "\n",
    "    # create a 5 fold CV ridgeCV model. Our target data is not centered at 0, so we want to fit to an intercept.\n",
    "clf = RidgeCV(alphas=alphas, cv=5, fit_intercept=True, normalize=False)\n",
    "\n",
    "model = clf.fit(train_x, train_y, sample_weight=possessions)"
   ]
  },
  {
   "cell_type": "code",
   "execution_count": 128,
   "id": "0bc6f0ab-16e2-4bee-bbfe-18565b50089c",
   "metadata": {},
   "outputs": [],
   "source": [
    "lambdas_rapm = [.01, .05, .1]"
   ]
  },
  {
   "cell_type": "code",
   "execution_count": 129,
   "id": "f0198bc1-9da1-466a-bfcb-02e63407160f",
   "metadata": {},
   "outputs": [
    {
     "ename": "IndexError",
     "evalue": "too many indices for array: array is 1-dimensional, but 2 were indexed",
     "output_type": "error",
     "traceback": [
      "\u001b[0;31m---------------------------------------------------------------------------\u001b[0m",
      "\u001b[0;31mIndexError\u001b[0m                                Traceback (most recent call last)",
      "\u001b[0;32m/var/folders/vc/57rv48yn701dfc_3bmv9xqwm0000gn/T/ipykernel_33925/1293425318.py\u001b[0m in \u001b[0;36m<module>\u001b[0;34m\u001b[0m\n\u001b[0;32m----> 1\u001b[0;31m \u001b[0mresults\u001b[0m\u001b[0;34m,\u001b[0m \u001b[0mintercept\u001b[0m \u001b[0;34m=\u001b[0m \u001b[0mcalculate_rapm\u001b[0m\u001b[0;34m(\u001b[0m\u001b[0mtrain_x\u001b[0m\u001b[0;34m,\u001b[0m \u001b[0mtrain_y\u001b[0m\u001b[0;34m,\u001b[0m \u001b[0mpossessions_raw\u001b[0m\u001b[0;34m,\u001b[0m \u001b[0mlambdas_rapm\u001b[0m\u001b[0;34m,\u001b[0m \u001b[0;34m'RAPM'\u001b[0m\u001b[0;34m,\u001b[0m \u001b[0mplayer_list\u001b[0m\u001b[0;34m)\u001b[0m\u001b[0;34m\u001b[0m\u001b[0;34m\u001b[0m\u001b[0m\n\u001b[0m",
      "\u001b[0;32m/var/folders/vc/57rv48yn701dfc_3bmv9xqwm0000gn/T/ipykernel_33925/3565390918.py\u001b[0m in \u001b[0;36mcalculate_rapm\u001b[0;34m(train_x, train_y, possessions, lambdas, name, players)\u001b[0m\n\u001b[1;32m     13\u001b[0m \u001b[0;34m\u001b[0m\u001b[0m\n\u001b[1;32m     14\u001b[0m     \u001b[0;31m# extract our coefficients into the offensive and defensive parts\u001b[0m\u001b[0;34m\u001b[0m\u001b[0;34m\u001b[0m\u001b[0m\n\u001b[0;32m---> 15\u001b[0;31m     \u001b[0mcoef_offensive_array\u001b[0m \u001b[0;34m=\u001b[0m \u001b[0mnp\u001b[0m\u001b[0;34m.\u001b[0m\u001b[0mtranspose\u001b[0m\u001b[0;34m(\u001b[0m\u001b[0mmodel\u001b[0m\u001b[0;34m.\u001b[0m\u001b[0mcoef_\u001b[0m\u001b[0;34m[\u001b[0m\u001b[0;34m:\u001b[0m\u001b[0;34m,\u001b[0m \u001b[0;36m0\u001b[0m\u001b[0;34m:\u001b[0m\u001b[0mlen\u001b[0m\u001b[0;34m(\u001b[0m\u001b[0mplayers\u001b[0m\u001b[0;34m)\u001b[0m\u001b[0;34m]\u001b[0m\u001b[0;34m)\u001b[0m\u001b[0;34m\u001b[0m\u001b[0;34m\u001b[0m\u001b[0m\n\u001b[0m\u001b[1;32m     16\u001b[0m     \u001b[0mcoef_defensive_array\u001b[0m \u001b[0;34m=\u001b[0m \u001b[0mnp\u001b[0m\u001b[0;34m.\u001b[0m\u001b[0mtranspose\u001b[0m\u001b[0;34m(\u001b[0m\u001b[0mmodel\u001b[0m\u001b[0;34m.\u001b[0m\u001b[0mcoef_\u001b[0m\u001b[0;34m[\u001b[0m\u001b[0;34m:\u001b[0m\u001b[0;34m,\u001b[0m \u001b[0mlen\u001b[0m\u001b[0;34m(\u001b[0m\u001b[0mplayers\u001b[0m\u001b[0;34m)\u001b[0m\u001b[0;34m:\u001b[0m\u001b[0;34m]\u001b[0m\u001b[0;34m)\u001b[0m\u001b[0;34m\u001b[0m\u001b[0;34m\u001b[0m\u001b[0m\n\u001b[1;32m     17\u001b[0m \u001b[0;34m\u001b[0m\u001b[0m\n",
      "\u001b[0;31mIndexError\u001b[0m: too many indices for array: array is 1-dimensional, but 2 were indexed"
     ]
    }
   ],
   "source": [
    "results, intercept = calculate_rapm(train_x, train_y, possessions_raw, lambdas_rapm, 'RAPM', player_list)"
   ]
  },
  {
   "cell_type": "code",
   "execution_count": null,
   "id": "55235456-3aad-4c44-89b0-bb6e01bc3ca3",
   "metadata": {},
   "outputs": [],
   "source": [
    "results = np.round(results, decimals=2)\n",
    "results = results.reindex_axis(sorted(results.columns), axis=1)"
   ]
  },
  {
   "cell_type": "code",
   "execution_count": null,
   "id": "fe34c9f3-7104-4770-8368-f1de5b05969b",
   "metadata": {},
   "outputs": [],
   "source": [
    "results = player_names.merge(results, how='inner', on='playerId')"
   ]
  },
  {
   "cell_type": "code",
   "execution_count": null,
   "id": "719c98fe-fff7-442d-a596-5484a8da7412",
   "metadata": {},
   "outputs": [],
   "source": [
    "results.to_csv('data/rapm.csv')\n",
    "print(results)"
   ]
  }
 ],
 "metadata": {
  "kernelspec": {
   "display_name": "Python 3 (ipykernel)",
   "language": "python",
   "name": "python3"
  },
  "language_info": {
   "codemirror_mode": {
    "name": "ipython",
    "version": 3
   },
   "file_extension": ".py",
   "mimetype": "text/x-python",
   "name": "python",
   "nbconvert_exporter": "python",
   "pygments_lexer": "ipython3",
   "version": "3.9.7"
  }
 },
 "nbformat": 4,
 "nbformat_minor": 5
}
