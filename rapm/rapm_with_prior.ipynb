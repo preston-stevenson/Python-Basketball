{
 "cells": [
  {
   "cell_type": "code",
   "execution_count": 1,
   "id": "bcdb9bc3-cdef-45d3-8d94-1094699a2bb1",
   "metadata": {},
   "outputs": [],
   "source": [
    "import json\n",
    "\n",
    "import pandas as pd\n",
    "import urllib3\n",
    "\n",
    "pd.set_option('display.max_columns', 500)\n",
    "pd.set_option('display.width', 1000)\n",
    "\n",
    "header_data = {\n",
    "    'Host': 'stats.nba.com',\n",
    "    'Connection': 'keep-alive',\n",
    "    'Cache-Control': 'max-age=0',\n",
    "    'Upgrade-Insecure-Requests': '1',\n",
    "    'User-Agent': 'Mozilla/5.0 (Macintosh; Intel Mac OS X 10_11_6) AppleWebKit/537.36 (KHTML, like Gecko) Chrome/66.0.3359.181 Safari/537.36',\n",
    "    'Referer': 'stats.nba.com',\n",
    "    'Accept-Encoding': 'gzip, deflate, br',\n",
    "    'Accept-Language': 'en-US,en;q=0.9',\n",
    "    'Accept': 'text/html,application/xhtml+xml,application/xml;q=0.9,image/webp,image/apng,*/*;q=0.8',\n",
    "}\n"
   ]
  },
  {
   "cell_type": "code",
   "execution_count": 2,
   "id": "ae747566-4230-4ae4-9e61-4d72b5137575",
   "metadata": {},
   "outputs": [],
   "source": [
    "# endpoints\n",
    "def player_stats_url(season):\n",
    "    return \"https://stats.nba.com/stats/leaguedashplayerstats?College=&Conference=&Country=&DateFrom=&DateTo=&Division=&DraftPick=&DraftYear=&GameScope=&GameSegment=&Height=&LastNGames=0&LeagueID=00&Location=&MeasureType=Base&Month=0&OpponentTeamID=0&Outcome=&PORound=0&PaceAdjust=N&PerMode=Totals&Period=0&PlayerExperience=&PlayerPosition=&PlusMinus=N&Rank=N&Season={0}&SeasonSegment=&SeasonType=Regular+Season&ShotClockRange=&StarterBench=&TeamID=0&TwoWay=0&VsConference=&VsDivision=&Weight=\".format(\n",
    "        season)\n",
    "\n",
    "\n",
    "# Extract json\n",
    "def extract_data(http_client, url):\n",
    "    r = http_client.request('GET', url, headers=header_data)    # Call the GET endpoint\n",
    "    resp = json.loads(r.data)                                   # Convert the response to a json object\n",
    "    results = resp['resultSets'][0]                             # take the first item in the resultsSet (This can be determined by inspection of the json response)\n",
    "    headers = results['headers']                                # take the headers of the response (our column names)\n",
    "    rows = results['rowSet']                                    # take the rows of our response\n",
    "    frame = pd.DataFrame(rows)                                  # convert the rows to a dataframe\n",
    "    frame.columns = headers                                     # set our column names using the  extracted headers\n",
    "    return frame"
   ]
  },
  {
   "cell_type": "code",
   "execution_count": 3,
   "id": "1077fe8b-df65-4e72-80dd-ebf30b6bfe65",
   "metadata": {},
   "outputs": [],
   "source": [
    "client = urllib3.PoolManager()\n",
    "season = \"2019-20\"\n",
    "\n",
    "frame = extract_data(client, player_stats_url(season))\n",
    "\n",
    "frame.to_csv(\"stats_nba_player_data_{0}.csv\".format(season), index=False)\n"
   ]
  },
  {
   "cell_type": "code",
   "execution_count": null,
   "id": "413c94e8-1334-4768-a693-be90e57cd037",
   "metadata": {},
   "outputs": [],
   "source": []
  }
 ],
 "metadata": {
  "kernelspec": {
   "display_name": "Python 3 (ipykernel)",
   "language": "python",
   "name": "python3"
  },
  "language_info": {
   "codemirror_mode": {
    "name": "ipython",
    "version": 3
   },
   "file_extension": ".py",
   "mimetype": "text/x-python",
   "name": "python",
   "nbconvert_exporter": "python",
   "pygments_lexer": "ipython3",
   "version": "3.9.7"
  }
 },
 "nbformat": 4,
 "nbformat_minor": 5
}
