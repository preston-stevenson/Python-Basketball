{
 "cells": [
  {
   "cell_type": "markdown",
   "id": "32c10cbf-063c-401f-9659-65077f95b250",
   "metadata": {},
   "source": [
    "# Deduplicating Player IDs"
   ]
  },
  {
   "cell_type": "code",
   "execution_count": 7,
   "id": "ffceded4-6538-44c2-88af-a732030fc121",
   "metadata": {},
   "outputs": [],
   "source": [
    "import json\n",
    "import pandas as pd\n",
    "import urllib3\n",
    "import bs4"
   ]
  },
  {
   "cell_type": "code",
   "execution_count": 9,
   "id": "7d9ea20c-fdf1-42fd-819c-9c5a29e022c8",
   "metadata": {},
   "outputs": [],
   "source": [
    "def player_totals_page(season):\n",
    "    return \"https://www.basketball-reference.com/leagues/NBA_{0}_totals.html\".format(season)"
   ]
  },
  {
   "cell_type": "code",
   "execution_count": 10,
   "id": "74096c35-16fb-4477-a8ed-408e3ef86ccc",
   "metadata": {},
   "outputs": [],
   "source": [
    "def extract_column_names(table):\n",
    "    columns = [col[\"aria-label\"] for col in table.find_all(\"thead\")[0].find_all(\"th\")][1:]\n",
    "    columns.append(\"id\")\n",
    "    return columns\n"
   ]
  },
  {
   "cell_type": "code",
   "execution_count": 11,
   "id": "41649f50-d32b-48ed-bdd4-5045e3b07e58",
   "metadata": {},
   "outputs": [],
   "source": [
    "def extract_rows(table):\n",
    "    rows = table.find_all(\"tbody\")[0].find_all(\"tr\")\n",
    "    parsed_rows = []\n",
    "    for r in rows:\n",
    "        parsed = parse_row(r)\n",
    "        if len(parsed) > 0:\n",
    "            parsed_rows.append(parsed)\n",
    "    return parsed_rows"
   ]
  },
  {
   "cell_type": "code",
   "execution_count": 18,
   "id": "263e443b-e3fd-4805-950c-02528bad8b84",
   "metadata": {},
   "outputs": [],
   "source": [
    "def parse_row(row):\n",
    "    other_data = row.find_all(\"td\")\n",
    "    if len(other_data) == 0:\n",
    "        return []\n",
    "    id = other_data[0].find_all(\"a\")[0][\"href\"].replace(\"/players/\", \"\").replace(\".html\",\"\").split(\"/\")[-1]\n",
    "    row_data = [td.string for td in other_data]\n",
    "    row_data.append(id)\n",
    "    return row_data"
   ]
  },
  {
   "cell_type": "code",
   "execution_count": 13,
   "id": "9f6e5c76-b49a-44f8-be03-efdc42618596",
   "metadata": {},
   "outputs": [],
   "source": [
    "http = urllib3.PoolManager()\n",
    "\n",
    "season = '2023'\n",
    "\n",
    "columns = []\n",
    "rows = []\n"
   ]
  },
  {
   "cell_type": "code",
   "execution_count": 14,
   "id": "020b0491-2a63-4705-b28c-8bef10eec049",
   "metadata": {},
   "outputs": [],
   "source": [
    "r = http.request('GET', player_totals_page(season))         # Request the page\n",
    "soup = bs4.BeautifulSoup(r.data, 'html')                    # Parse page with BeuatifulSoup\n",
    "f = soup.find_all(\"table\")                                  # Find the talbe\n",
    "if len(f) > 0:                                              # Check to ensure the table is there\n",
    "    columns = extract_column_names(f[0])                    # Extract column names from the table header\n",
    "    rows = rows + extract_rows(f[0])                        # Extract data from table rows\n",
    "\n",
    "frame = pd.DataFrame(rows)"
   ]
  },
  {
   "cell_type": "code",
   "execution_count": 21,
   "id": "4e0537c7-3e5f-4173-827a-95b4f5b2888a",
   "metadata": {},
   "outputs": [
    {
     "name": "stdout",
     "output_type": "stream",
     "text": [
      "               Player Pos Age Team Games Games Started Minutes Played  \\\n",
      "0    Precious Achiuwa   C  23  TOR    55            12           1140   \n",
      "1        Steven Adams   C  29  MEM    42            42           1133   \n",
      "2         Bam Adebayo   C  25  MIA    75            75           2598   \n",
      "3        Ochai Agbaji  SG  22  UTA    59            22           1209   \n",
      "4        Santi Aldama  PF  22  MEM    77            20           1682   \n",
      "..                ...  ..  ..  ...   ...           ...            ...   \n",
      "674    Thaddeus Young  PF  34  TOR    54             9            795   \n",
      "675        Trae Young  PG  24  ATL    73            73           2541   \n",
      "676    Omer Yurtseven   C  24  MIA     9             0             83   \n",
      "677       Cody Zeller   C  30  MIA    15             2            217   \n",
      "678       Ivica Zubac   C  25  LAC    76            76           2170   \n",
      "\n",
      "    Field Goals   FGA Field Goal Percentage  ... Offensive Rebounds  \\\n",
      "0           196   404                  .485  ...                100   \n",
      "1           157   263                  .597  ...                214   \n",
      "2           602  1114                  .540  ...                184   \n",
      "3           165   386                  .427  ...                 43   \n",
      "4           247   525                  .470  ...                 85   \n",
      "..          ...   ...                   ...  ...                ...   \n",
      "674         108   198                  .545  ...                 71   \n",
      "675         597  1390                  .429  ...                 56   \n",
      "676          16    27                  .593  ...                  8   \n",
      "677          37    59                  .627  ...                 25   \n",
      "678         326   514                  .634  ...                236   \n",
      "\n",
      "    Defensive Rebounds Total Rebounds Assists Steals Blocks Turnovers  \\\n",
      "0                  228            328      50     31     30        59   \n",
      "1                  271            485      97     36     46        79   \n",
      "2                  504            688     240     88     61       187   \n",
      "3                   78            121      67     16     15        41   \n",
      "4                  286            371      97     45     48        60   \n",
      "..                 ...            ...     ...    ...    ...       ...   \n",
      "674                 95            166      75     54      5        42   \n",
      "675                161            217     741     80      9       300   \n",
      "676                 15             23       2      2      2         4   \n",
      "677                 39             64      10      3      4        14   \n",
      "678                520            756      77     29     98       117   \n",
      "\n",
      "    Personal Fouls Points         id  \n",
      "0              102    508  achiupr01  \n",
      "1               98    361  adamsst01  \n",
      "2              208   1529  adebaba01  \n",
      "3               99    467  agbajoc01  \n",
      "4              143    696  aldamsa01  \n",
      "..             ...    ...        ...  \n",
      "674             88    240  youngth01  \n",
      "675            104   1914  youngtr01  \n",
      "676             16     40  yurtsom01  \n",
      "677             33     98  zelleco01  \n",
      "678            219    818  zubaciv01  \n",
      "\n",
      "[679 rows x 30 columns]\n"
     ]
    }
   ],
   "source": [
    "frame.columns = columns\n",
    "frame = frame.rename(columns = {\"Tm\":\"Team\"})"
   ]
  },
  {
   "cell_type": "code",
   "execution_count": 22,
   "id": "03a92915-58a9-47a1-9c8c-a54ca4cdb619",
   "metadata": {},
   "outputs": [],
   "source": [
    "frame.to_csv(\"basketball_reference_totals_{0}.csv\".format(season), index=False)"
   ]
  },
  {
   "cell_type": "code",
   "execution_count": null,
   "id": "d7ddecbe-28a5-4795-982a-5ce4d3a65f2f",
   "metadata": {},
   "outputs": [],
   "source": []
  }
 ],
 "metadata": {
  "kernelspec": {
   "display_name": "Python 3 (ipykernel)",
   "language": "python",
   "name": "python3"
  },
  "language_info": {
   "codemirror_mode": {
    "name": "ipython",
    "version": 3
   },
   "file_extension": ".py",
   "mimetype": "text/x-python",
   "name": "python",
   "nbconvert_exporter": "python",
   "pygments_lexer": "ipython3",
   "version": "3.9.7"
  }
 },
 "nbformat": 4,
 "nbformat_minor": 5
}
