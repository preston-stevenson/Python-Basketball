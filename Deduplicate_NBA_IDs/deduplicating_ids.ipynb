{
 "cells": [
  {
   "cell_type": "code",
   "execution_count": 58,
   "id": "ad5a0c8c-5fb5-46bc-b15a-84738b21dd67",
   "metadata": {},
   "outputs": [],
   "source": [
    "import pandas as pd\n",
    "from fuzzywuzzy import fuzz\n",
    "import numpy as np"
   ]
  },
  {
   "cell_type": "code",
   "execution_count": 26,
   "id": "dbe62fea-05ba-4dd3-bfb0-be0e4e7918a7",
   "metadata": {},
   "outputs": [],
   "source": [
    "pd.set_option('display.max_columns', 500)\n",
    "pd.set_option('display.width', 1000)"
   ]
  },
  {
   "cell_type": "code",
   "execution_count": 27,
   "id": "34cb7565-2e67-4c43-b8a9-2a611985faca",
   "metadata": {},
   "outputs": [],
   "source": [
    "# Container for our player object. It needs to hold our IDs and the fields we will use for entity resolution\n",
    "class Player:\n",
    "    def __init__(self, name, nba_id, bbref_id, fga, rbd, ast):\n",
    "        self.name = name\n",
    "        self.nba_id = nba_id\n",
    "        self.bbref_id = bbref_id\n",
    "        self.fga = fga\n",
    "        self.rbd = rbd\n",
    "        self.ast = ast\n"
   ]
  },
  {
   "cell_type": "code",
   "execution_count": 28,
   "id": "51ada486-d3d0-48e2-a67f-c877731a0295",
   "metadata": {},
   "outputs": [],
   "source": [
    "# Converts a basketball reference season to a season recognized by stats.nba.com (2019 -> 2018-19)\n",
    "def convert_bbref_season_to_nba_season(season):\n",
    "    year = int(season)\n",
    "    last_year = year - 1\n",
    "    last_two = season[-2:]\n",
    "    return \"{0}-{1}\".format(last_year, last_two)\n"
   ]
  },
  {
   "cell_type": "code",
   "execution_count": 34,
   "id": "bae41a83-2824-4649-b304-12ef0eb0267e",
   "metadata": {},
   "outputs": [],
   "source": [
    "# Basketball reference contains multiple rows for players who have played on multiple teams.\n",
    "# we only care about the season total for the player so we must deduplicate the rows (selected Team = TOT)\n",
    "def deduplicate_traded_players(group):\n",
    "    if len(group) > 1:\n",
    "        return group[group[\"Team\"] == \"TOT\"]\n",
    "    return group\n",
    "\n",
    "\n",
    "def check_names_fuzzy_match(row):\n",
    "    row[\"name_match\"] = fuzz.partial_ratio(row[\"Player\"], row[\"PLAYER_NAME\"]) > 60\n",
    "    return row\n"
   ]
  },
  {
   "cell_type": "code",
   "execution_count": 35,
   "id": "de4b63aa-5f62-48d1-af09-84634b626e6e",
   "metadata": {},
   "outputs": [],
   "source": [
    "season = \"2023\"\n",
    "\n",
    "# Read our basketball_reference data\n",
    "bbref_data = pd.read_csv(\"basketball_reference_totals_{}.csv\".format(season))\n",
    "# read out stats.nba.com data\n",
    "nba_data = pd.read_csv(\"stats_nba_player_data_{}.csv\".format(convert_bbref_season_to_nba_season(season)))\n",
    "# convert the player id from an int to a string\n",
    "nba_data[\"PLAYER_ID\"] = nba_data[\"PLAYER_ID\"].astype(str)\n",
    "\n",
    "# take the player name, id, team and fields we will use for deduplication from bbref data\n",
    "bbref_base_data = bbref_data[[\"Player\", \"id\", \"Team\", \"FGA\", \"Total Rebounds\", \"Assists\"]].groupby(\n",
    "    by=\"id\").apply(deduplicate_traded_players)"
   ]
  },
  {
   "cell_type": "code",
   "execution_count": 37,
   "id": "c8c17e64-d2e9-49da-85aa-846374211a32",
   "metadata": {},
   "outputs": [],
   "source": [
    "# take the player name, id, and fields we will use for deduplication from stats.nba.com data\n",
    "nba_base_data = nba_data[[\"PLAYER_ID\", \"PLAYER_NAME\", \"FGA\", \"REB\", \"AST\"]]\n",
    "\n",
    "# Perform a full outer join on the two dataframes. This allows us to get all of the exact matches\n",
    "name_matches = bbref_base_data.merge(nba_base_data,\n",
    "                                     left_on=[\"Player\", \"FGA\", \"Total Rebounds\", \"Assists\"],\n",
    "                                     right_on=[\"PLAYER_NAME\", \"FGA\", \"REB\", \"AST\"], how=\"outer\")\n"
   ]
  },
  {
   "cell_type": "code",
   "execution_count": 118,
   "id": "66afa8e4-f660-4c06-bb72-c02777cd4c50",
   "metadata": {},
   "outputs": [],
   "source": [
    "# take all of the exact matches and rename the columns, \n",
    "#we only care about player name and id from each source\n",
    "name_matches_ids = name_matches.dropna()\n",
    "name_matches_ids = name_matches_ids[[\"Player\", \"id\", \"PLAYER_NAME\", \"PLAYER_ID\"]]\n",
    "name_matches_ids.columns = [\"bbref_name\", \"bbref_id\", \"nba_name\", \"nba_id\"]\n",
    "\n"
   ]
  },
  {
   "cell_type": "code",
   "execution_count": 40,
   "id": "022b10b0-c96d-4934-942d-8261570e3485",
   "metadata": {},
   "outputs": [],
   "source": [
    "# Take all of the rows from the full outer join that have null values. These are the cases where no match was found.\n",
    "non_matches = name_matches[name_matches.isnull().any(axis=1)]\n",
    "\n",
    "# take all of the bbref data from non_matches\n",
    "bbref_non_matches = non_matches[[\"Player\", \"id\", \"FGA\", \"Total Rebounds\", \"Assists\"]].dropna()\n",
    "\n",
    "# take all of the stats.nba data from the non_matches\n",
    "nba_non_matches = non_matches[[\"PLAYER_NAME\", \"PLAYER_ID\", \"FGA\", \"REB\", \"AST\"]].dropna()"
   ]
  },
  {
   "cell_type": "code",
   "execution_count": 109,
   "id": "9795df2d-2f47-40b0-8b0d-3d5b0e5fbb53",
   "metadata": {},
   "outputs": [
    {
     "name": "stdout",
     "output_type": "stream",
     "text": [
      "                 Player         id          PLAYER_NAME PLAYER_ID\n",
      "0            OG Anunoby  anunoog01         O.G. Anunoby   1628384\n",
      "1   Patrick Baldwin Jr.  baldwpa01      Patrick Baldwin   1631116\n",
      "4         Dāvis Bertāns  bertada01        Davis Bertans    202722\n",
      "5     Bogdan Bogdanović  bogdabo01    Bogdan Bogdanovic    203992\n",
      "6      Bojan Bogdanović  bogdabo02     Bojan Bogdanovic    202711\n",
      "7           John Butler  butlejo01      John Butler Jr.   1631219\n",
      "8         Vlatko Čančar  cancavl01        Vlatko Cancar   1628427\n",
      "9        Moussa Diabaté  diabamo01       Moussa Diabate   1631217\n",
      "10          Luka Dončić  doncilu01          Luka Doncic   1629029\n",
      "11          Jeff Dowtin  dowtije01      Jeff Dowtin Jr.   1630288\n",
      "12         Goran Dragić  dragigo01         Goran Dragic    201609\n",
      "13             Rudy Gay    gayru01             Rudy Gay    200752\n",
      "14           A.J. Green  greenaj01             AJ Green   1631260\n",
      "15  Juancho Hernangómez  hernaju01  Juancho Hernangomez   1627823\n",
      "16    Willy Hernangómez  hernawi01    Willy Hernangomez   1626195\n",
      "17         Nikola Jokić  jokicni01         Nikola Jokic    203999\n",
      "18         Nikola Jović  jovicni01         Nikola Jovic   1631107\n",
      "19           Kevin Knox   knoxke01        Kevin Knox II   1628995\n",
      "20         Théo Maledon  maledth01         Theo Maledon   1630177\n",
      "21     Boban Marjanović  marjabo01     Boban Marjanovic   1626246\n",
      "22      Lauri Markkanen  markkla01      Lauri Markkanen   1628374\n",
      "24        Marcus Morris  morrima03    Marcus Morris Sr.    202694\n",
      "25         Jusuf Nurkić  nurkiju01         Jusuf Nurkic    203994\n",
      "26   Kristaps Porziņģis  porzikr01   Kristaps Porzingis    204001\n",
      "28         Luka Šamanić  samanlu01         Luka Samanic   1629677\n",
      "29          Dario Šarić  saricda01          Dario Saric    203967\n",
      "30      Dennis Schröder  schrode01      Dennis Schroder    203471\n",
      "31       Alperen Şengün  sengual01       Alperen Sengun   1630578\n",
      "32   Xavier Tillman Sr.  tillmxa01       Xavier Tillman   1630214\n",
      "33    Jonas Valančiūnas  valanjo01    Jonas Valanciunas    202685\n",
      "34       Nikola Vučević  vucevni01       Nikola Vucevic    202696\n",
      "35            John Wall   walljo01            John Wall    202322\n",
      "38      Robert Williams  williro04  Robert Williams III   1629057\n"
     ]
    }
   ],
   "source": [
    "potential_matches = bbref_non_matches.merge(nba_non_matches,\n",
    "                                     left_on=[\"Total Rebounds\", \"Assists\"],\n",
    "                                     right_on=[\"REB\", \"AST\"], how=\"outer\")\n",
    "#possible_matches.apply(check_names_fuzzy_match, axis=1)\n",
    "clean_potential_matches = potential_matches.dropna()\n",
    "possible_matches = clean_potential_matches.apply(check_names_fuzzy_match, axis=1)\n",
    "fuzzy_matches = possible_matches[possible_matches[\"name_match\"]][[\"Player\", \"id\", \"PLAYER_NAME\", \"PLAYER_ID\"]]\n",
    "print(fuzzy_matches)"
   ]
  },
  {
   "cell_type": "code",
   "execution_count": 102,
   "id": "ecf71863-da73-43d7-8a38-f255ffac7a50",
   "metadata": {},
   "outputs": [
    {
     "name": "stdout",
     "output_type": "stream",
     "text": [
      "         PLAYER_NAME PLAYER_ID  FGA_y    REB    AST\n",
      "39     Aaron Wiggins   1630598  363.0  211.0   80.0\n",
      "40      Blake Wesley   1631104  215.0   82.0   98.0\n",
      "41    Charles Bassey   1629646  135.0  193.0   48.0\n",
      "42    Doug McDermott    203926  523.0  138.0   91.0\n",
      "43       Isaiah Roby   1629676  155.0  108.0   38.0\n",
      "44  Keita Bates-Diop   1628966  465.0  247.0  103.0\n"
     ]
    }
   ],
   "source": [
    "problem_matches = potential_matches[potential_matches.isnull().any(1)]\n",
    "problem_matches_bbref = problem_matches.iloc[:,:5].dropna().sort_values(by = \"Player\")\n",
    "problem_matches_nba = problem_matches.iloc[:,5:].dropna().sort_values(by = \"PLAYER_NAME\")\n",
    "print(problem_matches_nba)"
   ]
  },
  {
   "cell_type": "code",
   "execution_count": 105,
   "id": "872ca9c0-e6d5-427b-a1cd-02c5d5d71994",
   "metadata": {},
   "outputs": [],
   "source": [
    "problem_matches_bbref.reset_index(drop=True, inplace=True)\n",
    "problem_matches_nba.reset_index(drop=True, inplace=True)"
   ]
  },
  {
   "cell_type": "code",
   "execution_count": 106,
   "id": "2afb8eb3-99af-418f-a827-5eaca7879946",
   "metadata": {},
   "outputs": [
    {
     "name": "stdout",
     "output_type": "stream",
     "text": [
      "             Player         id  FGA_x  Total Rebounds  Assists       PLAYER_NAME PLAYER_ID  FGA_y    REB    AST\n",
      "0     Aaron Wiggins  wiggiaa01  363.0           210.0     80.0     Aaron Wiggins   1630598  363.0  211.0   80.0\n",
      "1      Blake Wesley  weslebl01  215.0            81.0     99.0      Blake Wesley   1631104  215.0   82.0   98.0\n",
      "2    Charles Bassey  bassech01  135.0           193.0     47.0    Charles Bassey   1629646  135.0  193.0   48.0\n",
      "3    Doug McDermott  mcderdo01  523.0           139.0     91.0    Doug McDermott    203926  523.0  138.0   91.0\n",
      "4       Isaiah Roby   robyis01  155.0           107.0     38.0       Isaiah Roby   1629676  155.0  108.0   38.0\n",
      "5  Keita Bates-Diop  bateske01  465.0           248.0    103.0  Keita Bates-Diop   1628966  465.0  247.0  103.0\n"
     ]
    }
   ],
   "source": [
    "#if len(problem_matches_bbref) == len(problem_matches_nba):\n",
    "clean_problem_matches = pd.concat([problem_matches_bbref, problem_matches_nba], axis = 1)\n",
    "print(clean_problem_matches)"
   ]
  },
  {
   "cell_type": "code",
   "execution_count": 111,
   "id": "5052c963-4761-48c0-935e-0571aaf69218",
   "metadata": {},
   "outputs": [
    {
     "name": "stdout",
     "output_type": "stream",
     "text": [
      "             Player         id       PLAYER_NAME PLAYER_ID\n",
      "0     Aaron Wiggins  wiggiaa01     Aaron Wiggins   1630598\n",
      "1      Blake Wesley  weslebl01      Blake Wesley   1631104\n",
      "2    Charles Bassey  bassech01    Charles Bassey   1629646\n",
      "3    Doug McDermott  mcderdo01    Doug McDermott    203926\n",
      "4       Isaiah Roby   robyis01       Isaiah Roby   1629676\n",
      "5  Keita Bates-Diop  bateske01  Keita Bates-Diop   1628966\n"
     ]
    }
   ],
   "source": [
    "non_fuzzy_matches = clean_problem_matches[[\"Player\", \"id\", \"PLAYER_NAME\", \"PLAYER_ID\"]]\n",
    "print(non_fuzzy_matches)"
   ]
  },
  {
   "cell_type": "code",
   "execution_count": 131,
   "id": "ff6a2bc4-5bbe-4c51-9f16-70358fcb6a1f",
   "metadata": {},
   "outputs": [
    {
     "name": "stdout",
     "output_type": "stream",
     "text": [
      "                 Player         id          PLAYER_NAME PLAYER_ID\n",
      "0         Aaron Wiggins  wiggiaa01        Aaron Wiggins   1630598\n",
      "1          Blake Wesley  weslebl01         Blake Wesley   1631104\n",
      "2        Charles Bassey  bassech01       Charles Bassey   1629646\n",
      "3        Doug McDermott  mcderdo01       Doug McDermott    203926\n",
      "4           Isaiah Roby   robyis01          Isaiah Roby   1629676\n",
      "5      Keita Bates-Diop  bateske01     Keita Bates-Diop   1628966\n",
      "0            OG Anunoby  anunoog01         O.G. Anunoby   1628384\n",
      "1   Patrick Baldwin Jr.  baldwpa01      Patrick Baldwin   1631116\n",
      "4         Dāvis Bertāns  bertada01        Davis Bertans    202722\n",
      "5     Bogdan Bogdanović  bogdabo01    Bogdan Bogdanovic    203992\n",
      "6      Bojan Bogdanović  bogdabo02     Bojan Bogdanovic    202711\n",
      "7           John Butler  butlejo01      John Butler Jr.   1631219\n",
      "8         Vlatko Čančar  cancavl01        Vlatko Cancar   1628427\n",
      "9        Moussa Diabaté  diabamo01       Moussa Diabate   1631217\n",
      "10          Luka Dončić  doncilu01          Luka Doncic   1629029\n",
      "11          Jeff Dowtin  dowtije01      Jeff Dowtin Jr.   1630288\n",
      "12         Goran Dragić  dragigo01         Goran Dragic    201609\n",
      "13             Rudy Gay    gayru01             Rudy Gay    200752\n",
      "14           A.J. Green  greenaj01             AJ Green   1631260\n",
      "15  Juancho Hernangómez  hernaju01  Juancho Hernangomez   1627823\n",
      "16    Willy Hernangómez  hernawi01    Willy Hernangomez   1626195\n",
      "17         Nikola Jokić  jokicni01         Nikola Jokic    203999\n",
      "18         Nikola Jović  jovicni01         Nikola Jovic   1631107\n",
      "19           Kevin Knox   knoxke01        Kevin Knox II   1628995\n",
      "20         Théo Maledon  maledth01         Theo Maledon   1630177\n",
      "21     Boban Marjanović  marjabo01     Boban Marjanovic   1626246\n",
      "22      Lauri Markkanen  markkla01      Lauri Markkanen   1628374\n",
      "24        Marcus Morris  morrima03    Marcus Morris Sr.    202694\n",
      "25         Jusuf Nurkić  nurkiju01         Jusuf Nurkic    203994\n",
      "26   Kristaps Porziņģis  porzikr01   Kristaps Porzingis    204001\n",
      "28         Luka Šamanić  samanlu01         Luka Samanic   1629677\n",
      "29          Dario Šarić  saricda01          Dario Saric    203967\n",
      "30      Dennis Schröder  schrode01      Dennis Schroder    203471\n",
      "31       Alperen Şengün  sengual01       Alperen Sengun   1630578\n",
      "32   Xavier Tillman Sr.  tillmxa01       Xavier Tillman   1630214\n",
      "33    Jonas Valančiūnas  valanjo01    Jonas Valanciunas    202685\n",
      "34       Nikola Vučević  vucevni01       Nikola Vucevic    202696\n",
      "35            John Wall   walljo01            John Wall    202322\n",
      "38      Robert Williams  williro04  Robert Williams III   1629057\n"
     ]
    }
   ],
   "source": [
    "all_fuzzy_matches = pd.concat([non_fuzzy_matches, fuzzy_matches])\n",
    "print(all_fuzzy_matches)"
   ]
  },
  {
   "cell_type": "code",
   "execution_count": 114,
   "id": "1ea97a61-af28-4be3-9dfa-9f1febec8338",
   "metadata": {},
   "outputs": [
    {
     "name": "stdout",
     "output_type": "stream",
     "text": [
      "           bbref_name   bbref_id          nba_name   nba_id\n",
      "0    Precious Achiuwa  achiupr01  Precious Achiuwa  1630173\n",
      "1        Steven Adams  adamsst01      Steven Adams   203500\n",
      "2         Bam Adebayo  adebaba01       Bam Adebayo  1628389\n",
      "3        Ochai Agbaji  agbajoc01      Ochai Agbaji  1630534\n",
      "4        Santi Aldama  aldamsa01      Santi Aldama  1630583\n",
      "..                ...        ...               ...      ...\n",
      "534    Thaddeus Young  youngth01    Thaddeus Young   201152\n",
      "535        Trae Young  youngtr01        Trae Young  1629027\n",
      "536    Omer Yurtseven  yurtsom01    Omer Yurtseven  1630209\n",
      "537       Cody Zeller  zelleco01       Cody Zeller   203469\n",
      "538       Ivica Zubac  zubaciv01       Ivica Zubac  1627826\n",
      "\n",
      "[500 rows x 4 columns]\n"
     ]
    }
   ],
   "source": [
    "print(name_matches_ids)"
   ]
  },
  {
   "cell_type": "code",
   "execution_count": 132,
   "id": "bf752932-1d5e-4cc6-97c8-b7c57f3d051f",
   "metadata": {},
   "outputs": [
    {
     "name": "stdout",
     "output_type": "stream",
     "text": [
      "            bbref_name   bbref_id             nba_name   nba_id\n",
      "0     Precious Achiuwa  achiupr01     Precious Achiuwa  1630173\n",
      "1         Steven Adams  adamsst01         Steven Adams   203500\n",
      "2          Bam Adebayo  adebaba01          Bam Adebayo  1628389\n",
      "3         Ochai Agbaji  agbajoc01         Ochai Agbaji  1630534\n",
      "4         Santi Aldama  aldamsa01         Santi Aldama  1630583\n",
      "..                 ...        ...                  ...      ...\n",
      "34  Xavier Tillman Sr.  tillmxa01       Xavier Tillman  1630214\n",
      "35   Jonas Valančiūnas  valanjo01    Jonas Valanciunas   202685\n",
      "36      Nikola Vučević  vucevni01       Nikola Vucevic   202696\n",
      "37           John Wall   walljo01            John Wall   202322\n",
      "38     Robert Williams  williro04  Robert Williams III  1629057\n",
      "\n",
      "[539 rows x 4 columns]\n"
     ]
    }
   ],
   "source": [
    "all_fuzzy_matches = all_fuzzy_matches.rename(columns={\"Player\": \"bbref_name\", \"id\": \"bbref_id\", \"PLAYER_NAME\": \"nba_name\", \"PLAYER_ID\": \"nba_id\"})\n",
    "all_fuzzy_matches.reset_index(drop=True, inplace=True)\n",
    "name_matches_ids.reset_index(drop=True, inplace=True)\n",
    "all_ids = pd.concat([name_matches_ids, all_fuzzy_matches])\n",
    "print(all_ids)\n"
   ]
  },
  {
   "cell_type": "code",
   "execution_count": 133,
   "id": "de1f54e4-d03f-4d58-8181-9c6d509e794d",
   "metadata": {},
   "outputs": [],
   "source": [
    "season = \"2022-23\"\n",
    "all_ids.to_csv(\"deduplicate_nba_ids{0}.csv\".format(season), index=False)"
   ]
  },
  {
   "cell_type": "code",
   "execution_count": null,
   "id": "c9c93b80-0a06-4ae2-a642-ff8fcc5c987b",
   "metadata": {},
   "outputs": [],
   "source": []
  }
 ],
 "metadata": {
  "kernelspec": {
   "display_name": "Python 3 (ipykernel)",
   "language": "python",
   "name": "python3"
  },
  "language_info": {
   "codemirror_mode": {
    "name": "ipython",
    "version": 3
   },
   "file_extension": ".py",
   "mimetype": "text/x-python",
   "name": "python",
   "nbconvert_exporter": "python",
   "pygments_lexer": "ipython3",
   "version": "3.9.7"
  }
 },
 "nbformat": 4,
 "nbformat_minor": 5
}
