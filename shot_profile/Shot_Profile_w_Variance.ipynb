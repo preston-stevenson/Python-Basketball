{
 "cells": [
  {
   "cell_type": "code",
   "execution_count": 1,
   "id": "9a88717d-bda7-420b-8be7-f9d69b67168e",
   "metadata": {},
   "outputs": [],
   "source": [
    "import random\n",
    "import pandas as pd\n",
    "\n",
    "shots = 90\n",
    "ot_shots = 10"
   ]
  },
  {
   "cell_type": "code",
   "execution_count": 2,
   "id": "98b03925-9d33-4bb1-9945-f9bf4cafdaf6",
   "metadata": {},
   "outputs": [],
   "source": [
    "##########\n",
    "# Team 1 #\n",
    "##########\n",
    "team1 = {\n",
    "    '2pt rate': .80,\n",
    "    '3pt rate': .20,\n",
    "    '2pt%': .50,\n",
    "    '3pt%': .33333,\n",
    "    'orbd': .225,\n",
    "    'foul3': .015,\n",
    "    'foul2': .057,\n",
    "    'ft%': .77\n",
    "}\n",
    "\n",
    "##########\n",
    "# Team 2 #\n",
    "##########\n",
    "team2 = {\n",
    "    '2pt rate': .50,\n",
    "    '3pt rate': .50,\n",
    "    '2pt%': .50,\n",
    "    '3pt%': .33333,\n",
    "    'orbd': .225,\n",
    "    'foul3': .015,\n",
    "    'foul2': .057,\n",
    "    'ft%': .77\n",
    "}"
   ]
  },
  {
   "cell_type": "code",
   "execution_count": 3,
   "id": "717dc681-a81a-4dd1-a30e-4e186fc835ef",
   "metadata": {},
   "outputs": [],
   "source": [
    "def shoot_ft(team, ft_attempts):\n",
    "    ft_points = 0\n",
    "    i = 0\n",
    "    while i <= ft_attempts:\n",
    "        make = random.random()\n",
    "        if make < team['ft%']:\n",
    "            ft_points += 1\n",
    "        i += 1\n",
    "    return ft_points\n",
    "\n",
    "def points(team):\n",
    "    roll_shot_type = random.random()\n",
    "    roll_make = random.random()\n",
    "    roll_foul = random.random()\n",
    "\n",
    "    if roll_shot_type <= team['2pt rate']:\n",
    "        if roll_foul <= team['foul2']:\n",
    "            if roll_make <= team['2pt%']:\n",
    "                return 2 + shoot_ft(team, 1)\n",
    "            else:\n",
    "                return shoot_ft(team, 2)\n",
    "        elif roll_make <= team['2pt%']:\n",
    "            return 2\n",
    "    else:\n",
    "        if roll_foul <= team['foul3']:\n",
    "            if roll_make <= team['3pt%']:\n",
    "                return 3 + shoot_ft(team, 1)\n",
    "            else:\n",
    "                return shoot_ft(team, 3)\n",
    "        elif roll_make <= team['3pt%']:\n",
    "            return 3\n",
    "\n",
    "    roll_orbd = random.random()\n",
    "\n",
    "    if roll_orbd <= team['orbd']:\n",
    "        return points(team)\n",
    "\n",
    "    return 0"
   ]
  },
  {
   "cell_type": "code",
   "execution_count": 5,
   "id": "30702574-7bfd-466f-bfc1-bda2dd3d8633",
   "metadata": {},
   "outputs": [],
   "source": [
    "def play_game(shots_to_take):\n",
    "    t1_points_in_game = 0\n",
    "    t2_points_in_game = 0\n",
    "    for shot in range(shots_to_take):\n",
    "        t1_points_in_game += points(team1)\n",
    "        t2_points_in_game += points(team2)\n",
    "    return t1_points_in_game, t2_points_in_game\n",
    "\n",
    "\n",
    "results = []\n",
    "\n",
    "for game in range(100000):\n",
    "    t1_points, t2_points = play_game(shots)\n",
    "\n",
    "    while t1_points == t2_points:\n",
    "        t1_new, t2_new = play_game(ot_shots)\n",
    "        t1_points += t1_new\n",
    "        t2_points += t2_new\n",
    "\n",
    "    result = {\n",
    "        'team1': t1_points,\n",
    "        'team2': t2_points,\n",
    "        'game': game,\n",
    "        'team1_win': t1_points > t2_points,\n",
    "        'team2_win': t2_points > t1_points,\n",
    "    }\n",
    "    results.append(result)\n",
    "\n",
    "frame = pd.DataFrame(results)"
   ]
  },
  {
   "cell_type": "code",
   "execution_count": 6,
   "id": "fa701298-c61f-4688-96e3-0f7a75683707",
   "metadata": {},
   "outputs": [
    {
     "name": "stdout",
     "output_type": "stream",
     "text": [
      "Team 1 wins 51.45% of the time\n",
      "Team 2 wins 48.55% of the time\n"
     ]
    }
   ],
   "source": [
    "team1_wins = frame['team1_win'].sum() / frame.shape[0]\n",
    "team2_wins = frame['team2_win'].sum() / frame.shape[0]\n",
    "\n",
    "print('Team 1 wins {0:.2f}% of the time'.format(team1_wins * 100))\n",
    "print('Team 2 wins {0:.2f}% of the time'.format(team2_wins * 100))"
   ]
  },
  {
   "cell_type": "code",
   "execution_count": null,
   "id": "c9c47705-8929-46c2-af89-b5d956f249d9",
   "metadata": {},
   "outputs": [],
   "source": []
  }
 ],
 "metadata": {
  "kernelspec": {
   "display_name": "Python 3 (ipykernel)",
   "language": "python",
   "name": "python3"
  },
  "language_info": {
   "codemirror_mode": {
    "name": "ipython",
    "version": 3
   },
   "file_extension": ".py",
   "mimetype": "text/x-python",
   "name": "python",
   "nbconvert_exporter": "python",
   "pygments_lexer": "ipython3",
   "version": "3.9.7"
  }
 },
 "nbformat": 4,
 "nbformat_minor": 5
}
