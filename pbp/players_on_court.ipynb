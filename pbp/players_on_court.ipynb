{
 "cells": [
  {
   "cell_type": "code",
   "execution_count": 1,
   "id": "fa2b257f",
   "metadata": {},
   "outputs": [],
   "source": [
    "import json\n",
    "import pandas as pd\n",
    "import urllib3\n",
    "\n",
    "pd.set_option('display.max_columns', 500)\n",
    "pd.set_option('display.width', 1000)"
   ]
  },
  {
   "cell_type": "code",
   "execution_count": 2,
   "id": "c38393dd",
   "metadata": {},
   "outputs": [],
   "source": [
    "header_data = {\n",
    "    'Host': 'stats.nba.com',\n",
    "    'Connection': 'keep-alive',\n",
    "    'Cache-Control': 'max-age=0',\n",
    "    'Upgrade-Insecure-Requests': '1',\n",
    "    'User-Agent': 'Mozilla/5.0 (Macintosh; Intel Mac OS X 10_11_6) AppleWebKit/537.36 (KHTML, like Gecko) Chrome/66.0.3359.181 Safari/537.36',\n",
    "    'Referer': 'stats.nba.com',\n",
    "    'Accept-Encoding': 'gzip, deflate, br',\n",
    "    'Accept-Language': 'en-US,en;q=0.9',\n",
    "    'Accept': 'text/html,application/xhtml+xml,application/xml;q=0.9,image/webp,image/apng,*/*;q=0.8',\n",
    "}"
   ]
  },
  {
   "cell_type": "code",
   "execution_count": 3,
   "id": "fa446250",
   "metadata": {},
   "outputs": [],
   "source": [
    "# endpoints\n",
    "def play_by_play_url(game_id):\n",
    "    return \"https://stats.nba.com/stats/playbyplayv2/?gameId={0}&startPeriod=0&endPeriod=14\".format(game_id)\n",
    "\n",
    "\n",
    "def advanced_boxscore_url(game_id, start, end):\n",
    "    return \"https://stats.nba.com/stats/boxscoreadvancedv2/?gameId={0}&startPeriod=0&endPeriod=14&startRange={1}&endRange={2}&rangeType=2\".format(game_id, start, end)"
   ]
  },
  {
   "cell_type": "code",
   "execution_count": 4,
   "id": "b4f160fe",
   "metadata": {},
   "outputs": [],
   "source": [
    "http = urllib3.PoolManager()"
   ]
  },
  {
   "cell_type": "code",
   "execution_count": 5,
   "id": "eccdd294",
   "metadata": {},
   "outputs": [],
   "source": [
    "def extract_data(url):\n",
    "    r = http.request('GET', url, headers=header_data)\n",
    "    resp = json.loads(r.data)\n",
    "    results = resp['resultSets'][0]\n",
    "    headers = results['headers']\n",
    "    rows = results['rowSet']\n",
    "    frame = pd.DataFrame(rows)\n",
    "    frame.columns = headers\n",
    "    return frame"
   ]
  },
  {
   "cell_type": "code",
   "execution_count": 6,
   "id": "1974decb",
   "metadata": {},
   "outputs": [],
   "source": [
    "def calculate_time_at_period(period):\n",
    "    if period > 5:\n",
    "        return (720 * 4 + (period - 5) * (5 * 60)) * 10\n",
    "    else:\n",
    "        return (720 * (period - 1)) * 10\n"
   ]
  },
  {
   "cell_type": "code",
   "execution_count": 7,
   "id": "f8feb9f7",
   "metadata": {},
   "outputs": [],
   "source": [
    "def split_subs(df, tag):\n",
    "    subs = df[[tag, 'PERIOD', 'EVENTNUM']]\n",
    "    subs['SUB'] = tag\n",
    "    subs.columns = ['PLAYER_ID', 'PERIOD', 'EVENTNUM', 'SUB']\n",
    "    return subs"
   ]
  },
  {
   "cell_type": "code",
   "execution_count": 8,
   "id": "9f0bae3e",
   "metadata": {},
   "outputs": [],
   "source": [
    "game_id = \"0022300382\"\n",
    "frame = extract_data(play_by_play_url(game_id))"
   ]
  },
  {
   "cell_type": "code",
   "execution_count": 9,
   "id": "dac2c4cf",
   "metadata": {},
   "outputs": [],
   "source": [
    "substitutionsOnly = frame[frame[\"EVENTMSGTYPE\"] == 8][['PERIOD', 'EVENTNUM', 'PLAYER1_ID', 'PLAYER2_ID']]\n",
    "substitutionsOnly.columns = ['PERIOD', 'EVENTNUM', 'OUT', 'IN']"
   ]
  },
  {
   "cell_type": "code",
   "execution_count": 10,
   "id": "96838a74",
   "metadata": {},
   "outputs": [],
   "source": [
    "subs_in = split_subs(substitutionsOnly, 'IN')\n",
    "subs_out = split_subs(substitutionsOnly, 'OUT')"
   ]
  },
  {
   "cell_type": "code",
   "execution_count": 11,
   "id": "7cb324b4",
   "metadata": {},
   "outputs": [],
   "source": [
    "full_subs = pd.concat([subs_out, subs_in], axis=0).reset_index()[['PLAYER_ID', 'PERIOD', 'EVENTNUM', 'SUB']]"
   ]
  },
  {
   "cell_type": "code",
   "execution_count": 12,
   "id": "e608e505",
   "metadata": {},
   "outputs": [],
   "source": [
    "first_event_of_period = full_subs.loc[full_subs.groupby(by=['PERIOD', 'PLAYER_ID'])['EVENTNUM'].idxmin()]"
   ]
  },
  {
   "cell_type": "code",
   "execution_count": 13,
   "id": "5aa4f3d1",
   "metadata": {},
   "outputs": [],
   "source": [
    "players_subbed_in_at_each_period = first_event_of_period[first_event_of_period['SUB'] == 'IN'][['PLAYER_ID', 'PERIOD', 'SUB']]"
   ]
  },
  {
   "cell_type": "code",
   "execution_count": 14,
   "id": "6960aad3",
   "metadata": {},
   "outputs": [],
   "source": [
    "periods = players_subbed_in_at_each_period['PERIOD'].drop_duplicates().values.tolist()"
   ]
  },
  {
   "cell_type": "code",
   "execution_count": 15,
   "id": "b39affc9",
   "metadata": {},
   "outputs": [
    {
     "name": "stdout",
     "output_type": "stream",
     "text": [
      "          PLAYER_NAME  PLAYER_ID TEAM_ABBREVIATION  PERIOD\n",
      "0      Scottie Barnes    1630567               TOR       1\n",
      "1       Pascal Siakam    1627783               TOR       1\n",
      "2        Jakob Poeltl    1627751               TOR       1\n",
      "3          OG Anunoby    1628384               TOR       1\n",
      "4     Dennis Schroder     203471               TOR       1\n",
      "8   Marcus Morris Sr.     202694               PHI       1\n",
      "9       Tobias Harris     202699               PHI       1\n",
      "10        Joel Embiid     203954               PHI       1\n",
      "11    Kelly Oubre Jr.    1626162               PHI       1\n",
      "12       Tyrese Maxey    1630178               PHI       1\n",
      "0      Scottie Barnes    1630567               TOR       2\n",
      "5      Gary Trent Jr.    1629018               TOR       2\n",
      "6       Malachi Flynn    1630201               TOR       2\n",
      "7    Precious Achiuwa    1630173               TOR       2\n",
      "8     Otto Porter Jr.     203490               TOR       2\n",
      "10      Tobias Harris     202699               PHI       2\n",
      "13       Tyrese Maxey    1630178               PHI       2\n",
      "14   Robert Covington     203496               PHI       2\n",
      "15   Danuel House Jr.    1627863               PHI       2\n",
      "16          Paul Reed    1630194               PHI       2\n",
      "0      Scottie Barnes    1630567               TOR       3\n",
      "1       Pascal Siakam    1627783               TOR       3\n",
      "2        Jakob Poeltl    1627751               TOR       3\n",
      "3          OG Anunoby    1628384               TOR       3\n",
      "4     Dennis Schroder     203471               TOR       3\n",
      "8   Marcus Morris Sr.     202694               PHI       3\n",
      "9       Tobias Harris     202699               PHI       3\n",
      "10        Joel Embiid     203954               PHI       3\n",
      "11    Kelly Oubre Jr.    1626162               PHI       3\n",
      "12       Tyrese Maxey    1630178               PHI       3\n",
      "0      Scottie Barnes    1630567               TOR       4\n",
      "4     Dennis Schroder     203471               TOR       4\n",
      "5      Gary Trent Jr.    1629018               TOR       4\n",
      "7    Precious Achiuwa    1630173               TOR       4\n",
      "8     Otto Porter Jr.     203490               TOR       4\n",
      "12      Tobias Harris     202699               PHI       4\n",
      "14    Kelly Oubre Jr.    1626162               PHI       4\n",
      "15       Tyrese Maxey    1630178               PHI       4\n",
      "16   Robert Covington     203496               PHI       4\n",
      "19          Paul Reed    1630194               PHI       4\n"
     ]
    }
   ],
   "source": [
    "frames = []\n",
    "for period in periods:\n",
    "\n",
    "    low = calculate_time_at_period(period) + 5\n",
    "    high = calculate_time_at_period(period + 1) - 5\n",
    "    boxscore = advanced_boxscore_url(game_id, low, high)\n",
    "    boxscore_players = extract_data(boxscore)[['PLAYER_NAME', 'PLAYER_ID', 'TEAM_ABBREVIATION']]\n",
    "    boxscore_players['PERIOD'] = period\n",
    "\n",
    "    players_subbed_in_at_period = players_subbed_in_at_each_period[players_subbed_in_at_each_period['PERIOD'] == period]\n",
    "\n",
    "    joined_players = pd.merge(boxscore_players, players_subbed_in_at_period, on=['PLAYER_ID', 'PERIOD'], how='left')\n",
    "    joined_players = joined_players[pd.isnull(joined_players['SUB'])][['PLAYER_NAME', 'PLAYER_ID', 'TEAM_ABBREVIATION', 'PERIOD']]\n",
    "    frames.append(joined_players)\n",
    "\n",
    "out = pd.concat(frames)\n",
    "print(out)"
   ]
  },
  {
   "cell_type": "code",
   "execution_count": null,
   "id": "fb6909cb",
   "metadata": {},
   "outputs": [],
   "source": []
  }
 ],
 "metadata": {
  "kernelspec": {
   "display_name": "Python 3 (ipykernel)",
   "language": "python",
   "name": "python3"
  },
  "language_info": {
   "codemirror_mode": {
    "name": "ipython",
    "version": 3
   },
   "file_extension": ".py",
   "mimetype": "text/x-python",
   "name": "python",
   "nbconvert_exporter": "python",
   "pygments_lexer": "ipython3",
   "version": "3.9.7"
  }
 },
 "nbformat": 4,
 "nbformat_minor": 5
}
