{
 "cells": [
  {
   "cell_type": "code",
   "execution_count": 1,
   "id": "08f8ab7d-a48d-4999-84b8-96f9d743f287",
   "metadata": {},
   "outputs": [],
   "source": [
    "import pandas as pd\n",
    "import requests\n",
    "\n",
    "pd.set_option('display.max_columns', 500)\n",
    "pd.set_option('display.width', 1000)"
   ]
  },
  {
   "cell_type": "code",
   "execution_count": 4,
   "id": "a231536d-bd6f-423f-8ffb-9a6b9b6687ba",
   "metadata": {},
   "outputs": [],
   "source": [
    "# Game Id\n",
    "game_id = \"0022300382\"\n",
    "\n",
    "# Headers for API Request\n",
    "header_data  = {\n",
    "    'Connection': 'keep-alive',\n",
    "    'Accept': 'application/json, text/plain, */*',\n",
    "    'x-nba-stats-token': 'true',\n",
    "    'User-Agent': 'Mozilla/5.0 (Macintosh; Intel Mac OS X 10_14_6) AppleWebKit/537.36 (KHTML, like Gecko) Chrome/79.0.3945.130 Safari/537.36',\n",
    "    'x-nba-stats-origin': 'stats',\n",
    "    'Sec-Fetch-Site': 'same-origin',\n",
    "    'Sec-Fetch-Mode': 'cors',\n",
    "    'Referer': 'https://stats.nba.com/',\n",
    "    'Accept-Encoding': 'gzip, deflate, br',\n",
    "    'Accept-Language': 'en-US,en;q=0.9',\n",
    "}"
   ]
  },
  {
   "cell_type": "code",
   "execution_count": 5,
   "id": "c7739aaa-339d-4523-88c3-707c788e965f",
   "metadata": {},
   "outputs": [
    {
     "name": "stdout",
     "output_type": "stream",
     "text": [
      "https://stats.nba.com/stats/playbyplayv2/?gameId=0022300382&startPeriod=0&endPeriod=14\n"
     ]
    }
   ],
   "source": [
    "# build play by play url\n",
    "def play_by_play_url(game_id):\n",
    "    return \"https://stats.nba.com/stats/playbyplayv2/?gameId={0}&startPeriod=0&endPeriod=14\".format(game_id)\n",
    "\n",
    "# extracts data from api response\n",
    "def extract_data(url):\n",
    "    print(url)\n",
    "    r = requests.get(url, headers=header_data)\n",
    "    resp = r.json()\n",
    "    results = resp['resultSets'][0]\n",
    "    headers = results['headers']\n",
    "    rows = results['rowSet']\n",
    "    frame = pd.DataFrame(rows)\n",
    "    frame.columns = headers\n",
    "    return frame\n",
    "\n",
    "\n",
    "###\n",
    "### Download and Save Play by Play Data\n",
    "###\n",
    "\n",
    "play_by_play = extract_data(play_by_play_url(game_id))\n",
    "\n",
    "play_by_play.to_csv(\"data/{}_pbp.csv\".format(game_id), index=False)"
   ]
  },
  {
   "cell_type": "code",
   "execution_count": null,
   "id": "33cca601-8f55-4065-8393-8f7a41af2fe1",
   "metadata": {},
   "outputs": [],
   "source": []
  }
 ],
 "metadata": {
  "kernelspec": {
   "display_name": "Python 3 (ipykernel)",
   "language": "python",
   "name": "python3"
  },
  "language_info": {
   "codemirror_mode": {
    "name": "ipython",
    "version": 3
   },
   "file_extension": ".py",
   "mimetype": "text/x-python",
   "name": "python",
   "nbconvert_exporter": "python",
   "pygments_lexer": "ipython3",
   "version": "3.9.7"
  }
 },
 "nbformat": 4,
 "nbformat_minor": 5
}
