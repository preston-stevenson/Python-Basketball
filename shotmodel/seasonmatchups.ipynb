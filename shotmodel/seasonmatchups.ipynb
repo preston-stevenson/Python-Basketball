{
 "cells": [
  {
   "cell_type": "code",
   "execution_count": 59,
   "id": "d482254f-49ee-4d8a-a84c-938f5590cb59",
   "metadata": {},
   "outputs": [],
   "source": [
    "from nba_api.stats.endpoints import leaguegamelog\n",
    "import pandas as pd\n",
    "\n",
    "seasons = ['2020-21', '2021-22', '2022-23', '2023-24', '2024-25']\n",
    "all_games = []\n",
    "\n",
    "for season in seasons:\n",
    "    gamelog = leaguegamelog.LeagueGameLog(season=season, season_type_all_star='Regular Season')\n",
    "    df = gamelog.get_data_frames()[0]\n",
    "    \n",
    "    # Add season column\n",
    "    df['SEASON'] = season\n",
    "    \n",
    "    # Mark home/away from MATCHUP\n",
    "    df['HOME'] = df['MATCHUP'].str.contains('vs')\n",
    "    \n",
    "    all_games.append(df[['GAME_ID', 'TEAM_ID', 'HOME', 'SEASON']])\n",
    "\n",
    "# Combine all\n",
    "games_df = pd.concat(all_games).drop_duplicates(['GAME_ID', 'TEAM_ID'])\n",
    "\n",
    "# Pivot to get HOME_TEAM_ID and AWAY_TEAM_ID\n",
    "home_df = games_df[games_df['HOME'] == True][['GAME_ID', 'TEAM_ID', 'SEASON']].rename(columns={'TEAM_ID': 'HOME_TEAM_ID'})\n",
    "away_df = games_df[games_df['HOME'] == False][['GAME_ID', 'TEAM_ID']].rename(columns={'TEAM_ID': 'AWAY_TEAM_ID'})\n",
    "\n",
    "# Merge to single row per game\n",
    "final = pd.merge(home_df, away_df, on='GAME_ID')\n",
    "\n"
   ]
  },
  {
   "cell_type": "code",
   "execution_count": 63,
   "id": "f622e843-9adb-4457-b64e-87aebaa0103d",
   "metadata": {},
   "outputs": [],
   "source": [
    "final.to_csv(\"data/season_matchups.csv\", index=False)"
   ]
  },
  {
   "cell_type": "code",
   "execution_count": 64,
   "id": "6ccf0c57-baba-4ac2-a512-28cd312fd980",
   "metadata": {},
   "outputs": [
    {
     "data": {
      "text/html": [
       "<div>\n",
       "<style scoped>\n",
       "    .dataframe tbody tr th:only-of-type {\n",
       "        vertical-align: middle;\n",
       "    }\n",
       "\n",
       "    .dataframe tbody tr th {\n",
       "        vertical-align: top;\n",
       "    }\n",
       "\n",
       "    .dataframe thead th {\n",
       "        text-align: right;\n",
       "    }\n",
       "</style>\n",
       "<table border=\"1\" class=\"dataframe\">\n",
       "  <thead>\n",
       "    <tr style=\"text-align: right;\">\n",
       "      <th></th>\n",
       "      <th>GAME_ID</th>\n",
       "      <th>HOME_TEAM_ID</th>\n",
       "      <th>SEASON</th>\n",
       "      <th>AWAY_TEAM_ID</th>\n",
       "    </tr>\n",
       "  </thead>\n",
       "  <tbody>\n",
       "    <tr>\n",
       "      <th>0</th>\n",
       "      <td>0022000001</td>\n",
       "      <td>1610612751</td>\n",
       "      <td>2020-21</td>\n",
       "      <td>1610612744</td>\n",
       "    </tr>\n",
       "    <tr>\n",
       "      <th>1</th>\n",
       "      <td>0022000002</td>\n",
       "      <td>1610612747</td>\n",
       "      <td>2020-21</td>\n",
       "      <td>1610612746</td>\n",
       "    </tr>\n",
       "    <tr>\n",
       "      <th>2</th>\n",
       "      <td>0022000017</td>\n",
       "      <td>1610612763</td>\n",
       "      <td>2020-21</td>\n",
       "      <td>1610612759</td>\n",
       "    </tr>\n",
       "    <tr>\n",
       "      <th>3</th>\n",
       "      <td>0022000014</td>\n",
       "      <td>1610612761</td>\n",
       "      <td>2020-21</td>\n",
       "      <td>1610612740</td>\n",
       "    </tr>\n",
       "    <tr>\n",
       "      <th>4</th>\n",
       "      <td>0022000003</td>\n",
       "      <td>1610612738</td>\n",
       "      <td>2020-21</td>\n",
       "      <td>1610612749</td>\n",
       "    </tr>\n",
       "  </tbody>\n",
       "</table>\n",
       "</div>"
      ],
      "text/plain": [
       "      GAME_ID  HOME_TEAM_ID   SEASON  AWAY_TEAM_ID\n",
       "0  0022000001    1610612751  2020-21    1610612744\n",
       "1  0022000002    1610612747  2020-21    1610612746\n",
       "2  0022000017    1610612763  2020-21    1610612759\n",
       "3  0022000014    1610612761  2020-21    1610612740\n",
       "4  0022000003    1610612738  2020-21    1610612749"
      ]
     },
     "execution_count": 64,
     "metadata": {},
     "output_type": "execute_result"
    }
   ],
   "source": [
    "final.head()"
   ]
  },
  {
   "cell_type": "code",
   "execution_count": null,
   "id": "20c3b8d1-c3ed-46bb-af1b-ca7d6d6b2b08",
   "metadata": {},
   "outputs": [],
   "source": []
  }
 ],
 "metadata": {
  "kernelspec": {
   "display_name": "Python 3 (ipykernel)",
   "language": "python",
   "name": "python3"
  },
  "language_info": {
   "codemirror_mode": {
    "name": "ipython",
    "version": 3
   },
   "file_extension": ".py",
   "mimetype": "text/x-python",
   "name": "python",
   "nbconvert_exporter": "python",
   "pygments_lexer": "ipython3",
   "version": "3.9.7"
  }
 },
 "nbformat": 4,
 "nbformat_minor": 5
}
